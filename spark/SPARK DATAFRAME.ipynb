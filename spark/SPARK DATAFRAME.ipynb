{
 "cells": [
  {
   "cell_type": "markdown",
   "metadata": {},
   "source": [
    "# SPARK DATAFRAME BASICS "
   ]
  },
  {
   "cell_type": "code",
   "execution_count": 1,
   "metadata": {
    "collapsed": true
   },
   "outputs": [],
   "source": [
    "from pyspark.sql import SparkSession\n"
   ]
  },
  {
   "cell_type": "code",
   "execution_count": 2,
   "metadata": {
    "collapsed": false
   },
   "outputs": [],
   "source": [
    "spark = SparkSession.builder.appName(\"Basics\").getOrCreate()"
   ]
  },
  {
   "cell_type": "code",
   "execution_count": 3,
   "metadata": {
    "collapsed": true
   },
   "outputs": [],
   "source": [
    "df = spark.read.csv(\"file:///home/icpl12900/Desktop/assignments/fakefriends.csv\")"
   ]
  },
  {
   "cell_type": "code",
   "execution_count": 4,
   "metadata": {
    "collapsed": false
   },
   "outputs": [
    {
     "name": "stdout",
     "output_type": "stream",
     "text": [
      "+---+--------+---+---+\n",
      "|_c0|     _c1|_c2|_c3|\n",
      "+---+--------+---+---+\n",
      "|  0|    Will| 33|385|\n",
      "|  1|Jean-Luc| 26|  2|\n",
      "|  2|    Hugh| 55|221|\n",
      "|  3|  Deanna| 40|465|\n",
      "|  4|   Quark| 68| 21|\n",
      "|  5|  Weyoun| 59|318|\n",
      "|  6|  Gowron| 37|220|\n",
      "|  7|    Will| 54|307|\n",
      "|  8|  Jadzia| 38|380|\n",
      "|  9|    Hugh| 27|181|\n",
      "| 10|     Odo| 53|191|\n",
      "| 11|     Ben| 57|372|\n",
      "| 12|   Keiko| 54|253|\n",
      "| 13|Jean-Luc| 56|444|\n",
      "| 14|    Hugh| 43| 49|\n",
      "| 15|     Rom| 36| 49|\n",
      "| 16|  Weyoun| 22|323|\n",
      "| 17|     Odo| 35| 13|\n",
      "| 18|Jean-Luc| 45|455|\n",
      "| 19|  Geordi| 60|246|\n",
      "+---+--------+---+---+\n",
      "only showing top 20 rows\n",
      "\n"
     ]
    }
   ],
   "source": [
    "df.show() #it show data"
   ]
  },
  {
   "cell_type": "code",
   "execution_count": 5,
   "metadata": {
    "collapsed": false
   },
   "outputs": [
    {
     "name": "stdout",
     "output_type": "stream",
     "text": [
      "root\n",
      " |-- _c0: string (nullable = true)\n",
      " |-- _c1: string (nullable = true)\n",
      " |-- _c2: string (nullable = true)\n",
      " |-- _c3: string (nullable = true)\n",
      "\n"
     ]
    }
   ],
   "source": [
    "df.printSchema()"
   ]
  },
  {
   "cell_type": "code",
   "execution_count": 9,
   "metadata": {
    "collapsed": false
   },
   "outputs": [
    {
     "data": {
      "text/plain": [
       "['_c0', '_c1', '_c2', '_c3']"
      ]
     },
     "execution_count": 9,
     "metadata": {},
     "output_type": "execute_result"
    }
   ],
   "source": [
    "df.columns #show python list of columns name"
   ]
  },
  {
   "cell_type": "code",
   "execution_count": 11,
   "metadata": {
    "collapsed": false
   },
   "outputs": [
    {
     "data": {
      "text/plain": [
       "'_c0'"
      ]
     },
     "execution_count": 11,
     "metadata": {},
     "output_type": "execute_result"
    }
   ],
   "source": [
    "df.columns[0] #show name of column at index 0"
   ]
  },
  {
   "cell_type": "code",
   "execution_count": 16,
   "metadata": {
    "collapsed": false
   },
   "outputs": [
    {
     "data": {
      "text/plain": [
       "DataFrame[summary: string, _c0: string, _c1: string, _c2: string, _c3: string]"
      ]
     },
     "execution_count": 16,
     "metadata": {},
     "output_type": "execute_result"
    }
   ],
   "source": [
    "df.describe()"
   ]
  },
  {
   "cell_type": "code",
   "execution_count": 17,
   "metadata": {
    "collapsed": false
   },
   "outputs": [
    {
     "name": "stdout",
     "output_type": "stream",
     "text": [
      "+-------+-----------------+----+------------------+-----------------+\n",
      "|summary|              _c0| _c1|               _c2|              _c3|\n",
      "+-------+-----------------+----+------------------+-----------------+\n",
      "|  count|              500| 500|               500|              500|\n",
      "|   mean|            249.5|null|            43.708|          248.532|\n",
      "| stddev|144.4818327679989|null|14.864340996711995|147.2217288680643|\n",
      "|    min|                0| Ben|                18|                1|\n",
      "|    max|               99|Worf|                69|               99|\n",
      "+-------+-----------------+----+------------------+-----------------+\n",
      "\n"
     ]
    }
   ],
   "source": [
    "df.describe().show()"
   ]
  },
  {
   "cell_type": "markdown",
   "metadata": {},
   "source": [
    "# Give Schema for dataFrame"
   ]
  },
  {
   "cell_type": "code",
   "execution_count": 25,
   "metadata": {
    "collapsed": false
   },
   "outputs": [],
   "source": [
    "from pyspark.sql.types import (StructField,StringType,\n",
    "                               IntegerType,StructType)"
   ]
  },
  {
   "cell_type": "code",
   "execution_count": 26,
   "metadata": {
    "collapsed": false
   },
   "outputs": [],
   "source": [
    "data_schema = [StructField('ID',IntegerType(),True),\n",
    "               StructField('NAME',StringType(),True),\n",
    "               StructField('AGE',IntegerType(),True),\n",
    "               StructField(\"FRIENDS\",IntegerType(),True)]\n",
    "#True means it is ok if there is null value in column\n",
    "#if it is not given if there is null value then it give error\n"
   ]
  },
  {
   "cell_type": "code",
   "execution_count": 27,
   "metadata": {
    "collapsed": true
   },
   "outputs": [],
   "source": [
    "final_struct = StructType(fields=data_schema)"
   ]
  },
  {
   "cell_type": "code",
   "execution_count": 28,
   "metadata": {
    "collapsed": true
   },
   "outputs": [],
   "source": [
    "df = spark.read.csv(\"file:///home/icpl12900/Desktop/assignments/fakefriends.csv\",schema=final_struct)"
   ]
  },
  {
   "cell_type": "code",
   "execution_count": 29,
   "metadata": {
    "collapsed": false
   },
   "outputs": [
    {
     "name": "stdout",
     "output_type": "stream",
     "text": [
      "root\n",
      " |-- ID: integer (nullable = true)\n",
      " |-- NAME: string (nullable = true)\n",
      " |-- AGE: integer (nullable = true)\n",
      " |-- FRIENDS: integer (nullable = true)\n",
      "\n"
     ]
    }
   ],
   "source": [
    "df.printSchema()"
   ]
  },
  {
   "cell_type": "markdown",
   "metadata": {},
   "source": [
    "# SELECT METHOD"
   ]
  },
  {
   "cell_type": "code",
   "execution_count": 30,
   "metadata": {
    "collapsed": false
   },
   "outputs": [
    {
     "data": {
      "text/plain": [
       "Column<age>"
      ]
     },
     "execution_count": 30,
     "metadata": {},
     "output_type": "execute_result"
    }
   ],
   "source": [
    "df['age']"
   ]
  },
  {
   "cell_type": "code",
   "execution_count": 31,
   "metadata": {
    "collapsed": false
   },
   "outputs": [
    {
     "data": {
      "text/plain": [
       "pyspark.sql.column.Column"
      ]
     },
     "execution_count": 31,
     "metadata": {},
     "output_type": "execute_result"
    }
   ],
   "source": [
    "type(df['age']) #it show type of column age and here column is object"
   ]
  },
  {
   "cell_type": "code",
   "execution_count": 33,
   "metadata": {
    "collapsed": false
   },
   "outputs": [
    {
     "data": {
      "text/plain": [
       "DataFrame[age: int]"
      ]
     },
     "execution_count": 33,
     "metadata": {},
     "output_type": "execute_result"
    }
   ],
   "source": [
    "df.select('age') #it show column name with data type of that column"
   ]
  },
  {
   "cell_type": "code",
   "execution_count": 34,
   "metadata": {
    "collapsed": false
   },
   "outputs": [
    {
     "name": "stdout",
     "output_type": "stream",
     "text": [
      "+---+\n",
      "|age|\n",
      "+---+\n",
      "| 33|\n",
      "| 26|\n",
      "| 55|\n",
      "| 40|\n",
      "| 68|\n",
      "| 59|\n",
      "| 37|\n",
      "| 54|\n",
      "| 38|\n",
      "| 27|\n",
      "| 53|\n",
      "| 57|\n",
      "| 54|\n",
      "| 56|\n",
      "| 43|\n",
      "| 36|\n",
      "| 22|\n",
      "| 35|\n",
      "| 45|\n",
      "| 60|\n",
      "+---+\n",
      "only showing top 20 rows\n",
      "\n"
     ]
    }
   ],
   "source": [
    "df.select('age').show() #it show data from that column"
   ]
  },
  {
   "cell_type": "markdown",
   "metadata": {},
   "source": [
    "##### There are two method :\n",
    "    1. return COLUMN from dataframe   \n",
    "            \n",
    "    2. return dataframe which contain single column\n",
    "            df.select('age').show()"
   ]
  },
  {
   "cell_type": "code",
   "execution_count": 35,
   "metadata": {
    "collapsed": false
   },
   "outputs": [
    {
     "data": {
      "text/plain": [
       "pyspark.sql.dataframe.DataFrame"
      ]
     },
     "execution_count": 35,
     "metadata": {},
     "output_type": "execute_result"
    }
   ],
   "source": [
    "type(df.select('age')) # it return dataframe of single column"
   ]
  },
  {
   "cell_type": "markdown",
   "metadata": {},
   "source": [
    "##### for top two row use head method"
   ]
  },
  {
   "cell_type": "code",
   "execution_count": 36,
   "metadata": {
    "collapsed": false
   },
   "outputs": [
    {
     "data": {
      "text/plain": [
       "[Row(ID=0, NAME=u'Will', AGE=33, FRIENDS=385),\n",
       " Row(ID=1, NAME=u'Jean-Luc', AGE=26, FRIENDS=2)]"
      ]
     },
     "execution_count": 36,
     "metadata": {},
     "output_type": "execute_result"
    }
   ],
   "source": [
    "df.head(2)"
   ]
  },
  {
   "cell_type": "code",
   "execution_count": 37,
   "metadata": {
    "collapsed": false
   },
   "outputs": [
    {
     "data": {
      "text/plain": [
       "list"
      ]
     },
     "execution_count": 37,
     "metadata": {},
     "output_type": "execute_result"
    }
   ],
   "source": [
    "type(df.head(2)) \n",
    "#for top two rows it return type is \"list\""
   ]
  },
  {
   "cell_type": "code",
   "execution_count": 42,
   "metadata": {
    "collapsed": false
   },
   "outputs": [
    {
     "data": {
      "text/plain": [
       "pyspark.sql.types.Row"
      ]
     },
     "execution_count": 42,
     "metadata": {},
     "output_type": "execute_result"
    }
   ],
   "source": [
    "type(df.head(2)[0]) \n",
    "#from top two , at 1st index there is 1st row from dataframe and type of that row within list is ROW\n"
   ]
  },
  {
   "cell_type": "code",
   "execution_count": 43,
   "metadata": {
    "collapsed": false
   },
   "outputs": [
    {
     "data": {
      "text/plain": [
       "Row(ID=0, NAME=u'Will', AGE=33, FRIENDS=385)"
      ]
     },
     "execution_count": 43,
     "metadata": {},
     "output_type": "execute_result"
    }
   ],
   "source": [
    "df.head(2)[0] "
   ]
  },
  {
   "cell_type": "code",
   "execution_count": 45,
   "metadata": {
    "collapsed": false
   },
   "outputs": [
    {
     "data": {
      "text/plain": [
       "[Row(ID=0, NAME=u'Will', AGE=33, FRIENDS=385)]"
      ]
     },
     "execution_count": 45,
     "metadata": {},
     "output_type": "execute_result"
    }
   ],
   "source": [
    "df.head(1) #output is same"
   ]
  },
  {
   "cell_type": "code",
   "execution_count": 46,
   "metadata": {
    "collapsed": false
   },
   "outputs": [
    {
     "data": {
      "text/plain": [
       "list"
      ]
     },
     "execution_count": 46,
     "metadata": {},
     "output_type": "execute_result"
    }
   ],
   "source": [
    "type(df.head(1)) #but type is different "
   ]
  },
  {
   "cell_type": "markdown",
   "metadata": {},
   "source": [
    "##### If we want more than one column in \"select\""
   ]
  },
  {
   "cell_type": "code",
   "execution_count": 48,
   "metadata": {
    "collapsed": false
   },
   "outputs": [
    {
     "data": {
      "text/plain": [
       "DataFrame[ID: int, NAME: string]"
      ]
     },
     "execution_count": 48,
     "metadata": {},
     "output_type": "execute_result"
    }
   ],
   "source": [
    "df.select(['ID','NAME']) #return Dataframe of two column"
   ]
  },
  {
   "cell_type": "code",
   "execution_count": 49,
   "metadata": {
    "collapsed": false
   },
   "outputs": [
    {
     "name": "stdout",
     "output_type": "stream",
     "text": [
      "+---+--------+\n",
      "| ID|    NAME|\n",
      "+---+--------+\n",
      "|  0|    Will|\n",
      "|  1|Jean-Luc|\n",
      "|  2|    Hugh|\n",
      "|  3|  Deanna|\n",
      "|  4|   Quark|\n",
      "|  5|  Weyoun|\n",
      "|  6|  Gowron|\n",
      "|  7|    Will|\n",
      "|  8|  Jadzia|\n",
      "|  9|    Hugh|\n",
      "| 10|     Odo|\n",
      "| 11|     Ben|\n",
      "| 12|   Keiko|\n",
      "| 13|Jean-Luc|\n",
      "| 14|    Hugh|\n",
      "| 15|     Rom|\n",
      "| 16|  Weyoun|\n",
      "| 17|     Odo|\n",
      "| 18|Jean-Luc|\n",
      "| 19|  Geordi|\n",
      "+---+--------+\n",
      "only showing top 20 rows\n",
      "\n"
     ]
    }
   ],
   "source": [
    "df.select(['ID','NAME']).show()"
   ]
  },
  {
   "cell_type": "markdown",
   "metadata": {},
   "source": [
    "##### withColumn : ==  To add new column in dataframe but this is not inplace operation so it not change original DataFrame"
   ]
  },
  {
   "cell_type": "code",
   "execution_count": 50,
   "metadata": {
    "collapsed": false
   },
   "outputs": [
    {
     "name": "stdout",
     "output_type": "stream",
     "text": [
      "+---+--------+---+-------+------+\n",
      "| ID|    NAME|AGE|FRIENDS|newAge|\n",
      "+---+--------+---+-------+------+\n",
      "|  0|    Will| 33|    385|    33|\n",
      "|  1|Jean-Luc| 26|      2|    26|\n",
      "|  2|    Hugh| 55|    221|    55|\n",
      "|  3|  Deanna| 40|    465|    40|\n",
      "|  4|   Quark| 68|     21|    68|\n",
      "|  5|  Weyoun| 59|    318|    59|\n",
      "|  6|  Gowron| 37|    220|    37|\n",
      "|  7|    Will| 54|    307|    54|\n",
      "|  8|  Jadzia| 38|    380|    38|\n",
      "|  9|    Hugh| 27|    181|    27|\n",
      "| 10|     Odo| 53|    191|    53|\n",
      "| 11|     Ben| 57|    372|    57|\n",
      "| 12|   Keiko| 54|    253|    54|\n",
      "| 13|Jean-Luc| 56|    444|    56|\n",
      "| 14|    Hugh| 43|     49|    43|\n",
      "| 15|     Rom| 36|     49|    36|\n",
      "| 16|  Weyoun| 22|    323|    22|\n",
      "| 17|     Odo| 35|     13|    35|\n",
      "| 18|Jean-Luc| 45|    455|    45|\n",
      "| 19|  Geordi| 60|    246|    60|\n",
      "+---+--------+---+-------+------+\n",
      "only showing top 20 rows\n",
      "\n"
     ]
    }
   ],
   "source": [
    "df.withColumn('newAge',df['age']).show() \n",
    "#it create newAge column in dataFrame, which have same data as age column"
   ]
  },
  {
   "cell_type": "code",
   "execution_count": 52,
   "metadata": {
    "collapsed": false
   },
   "outputs": [
    {
     "name": "stdout",
     "output_type": "stream",
     "text": [
      "+---+--------+---+-------+\n",
      "| ID|    NAME|AGE|FRIENDS|\n",
      "+---+--------+---+-------+\n",
      "|  0|    Will| 33|    385|\n",
      "|  1|Jean-Luc| 26|      2|\n",
      "|  2|    Hugh| 55|    221|\n",
      "|  3|  Deanna| 40|    465|\n",
      "|  4|   Quark| 68|     21|\n",
      "|  5|  Weyoun| 59|    318|\n",
      "|  6|  Gowron| 37|    220|\n",
      "|  7|    Will| 54|    307|\n",
      "|  8|  Jadzia| 38|    380|\n",
      "|  9|    Hugh| 27|    181|\n",
      "| 10|     Odo| 53|    191|\n",
      "| 11|     Ben| 57|    372|\n",
      "| 12|   Keiko| 54|    253|\n",
      "| 13|Jean-Luc| 56|    444|\n",
      "| 14|    Hugh| 43|     49|\n",
      "| 15|     Rom| 36|     49|\n",
      "| 16|  Weyoun| 22|    323|\n",
      "| 17|     Odo| 35|     13|\n",
      "| 18|Jean-Luc| 45|    455|\n",
      "| 19|  Geordi| 60|    246|\n",
      "+---+--------+---+-------+\n",
      "only showing top 20 rows\n",
      "\n"
     ]
    }
   ],
   "source": [
    "df.show()\n",
    "#but it doesnot change original DataFrame"
   ]
  },
  {
   "cell_type": "code",
   "execution_count": 54,
   "metadata": {
    "collapsed": false
   },
   "outputs": [
    {
     "name": "stdout",
     "output_type": "stream",
     "text": [
      "+---+--------+---+-------+------+\n",
      "| ID|    NAME|AGE|FRIENDS|newAge|\n",
      "+---+--------+---+-------+------+\n",
      "|  0|    Will| 33|    385|    66|\n",
      "|  1|Jean-Luc| 26|      2|    52|\n",
      "|  2|    Hugh| 55|    221|   110|\n",
      "|  3|  Deanna| 40|    465|    80|\n",
      "|  4|   Quark| 68|     21|   136|\n",
      "|  5|  Weyoun| 59|    318|   118|\n",
      "|  6|  Gowron| 37|    220|    74|\n",
      "|  7|    Will| 54|    307|   108|\n",
      "|  8|  Jadzia| 38|    380|    76|\n",
      "|  9|    Hugh| 27|    181|    54|\n",
      "| 10|     Odo| 53|    191|   106|\n",
      "| 11|     Ben| 57|    372|   114|\n",
      "| 12|   Keiko| 54|    253|   108|\n",
      "| 13|Jean-Luc| 56|    444|   112|\n",
      "| 14|    Hugh| 43|     49|    86|\n",
      "| 15|     Rom| 36|     49|    72|\n",
      "| 16|  Weyoun| 22|    323|    44|\n",
      "| 17|     Odo| 35|     13|    70|\n",
      "| 18|Jean-Luc| 45|    455|    90|\n",
      "| 19|  Geordi| 60|    246|   120|\n",
      "+---+--------+---+-------+------+\n",
      "only showing top 20 rows\n",
      "\n"
     ]
    }
   ],
   "source": [
    "df.withColumn('newAge',df['age']*2).show() \n",
    "#here we create new column with name newAge and value in that column is double value in column age"
   ]
  },
  {
   "cell_type": "markdown",
   "metadata": {},
   "source": [
    "##### withCoulmnRename  use to rename column name"
   ]
  },
  {
   "cell_type": "code",
   "execution_count": 57,
   "metadata": {
    "collapsed": false
   },
   "outputs": [
    {
     "name": "stdout",
     "output_type": "stream",
     "text": [
      "+---+--------+----------+-------+\n",
      "| ID|    NAME|my_new_age|FRIENDS|\n",
      "+---+--------+----------+-------+\n",
      "|  0|    Will|        33|    385|\n",
      "|  1|Jean-Luc|        26|      2|\n",
      "|  2|    Hugh|        55|    221|\n",
      "|  3|  Deanna|        40|    465|\n",
      "|  4|   Quark|        68|     21|\n",
      "|  5|  Weyoun|        59|    318|\n",
      "|  6|  Gowron|        37|    220|\n",
      "|  7|    Will|        54|    307|\n",
      "|  8|  Jadzia|        38|    380|\n",
      "|  9|    Hugh|        27|    181|\n",
      "| 10|     Odo|        53|    191|\n",
      "| 11|     Ben|        57|    372|\n",
      "| 12|   Keiko|        54|    253|\n",
      "| 13|Jean-Luc|        56|    444|\n",
      "| 14|    Hugh|        43|     49|\n",
      "| 15|     Rom|        36|     49|\n",
      "| 16|  Weyoun|        22|    323|\n",
      "| 17|     Odo|        35|     13|\n",
      "| 18|Jean-Luc|        45|    455|\n",
      "| 19|  Geordi|        60|    246|\n",
      "+---+--------+----------+-------+\n",
      "only showing top 20 rows\n",
      "\n"
     ]
    }
   ],
   "source": [
    "df.withColumnRenamed('age','my_new_age').show()\n",
    "#1st give old name then give new name but this is also not inplace operation"
   ]
  },
  {
   "cell_type": "code",
   "execution_count": 58,
   "metadata": {
    "collapsed": false
   },
   "outputs": [
    {
     "name": "stdout",
     "output_type": "stream",
     "text": [
      "+---+--------+---+-------+\n",
      "| ID|    NAME|AGE|FRIENDS|\n",
      "+---+--------+---+-------+\n",
      "|  0|    Will| 33|    385|\n",
      "|  1|Jean-Luc| 26|      2|\n",
      "|  2|    Hugh| 55|    221|\n",
      "|  3|  Deanna| 40|    465|\n",
      "|  4|   Quark| 68|     21|\n",
      "|  5|  Weyoun| 59|    318|\n",
      "|  6|  Gowron| 37|    220|\n",
      "|  7|    Will| 54|    307|\n",
      "|  8|  Jadzia| 38|    380|\n",
      "|  9|    Hugh| 27|    181|\n",
      "| 10|     Odo| 53|    191|\n",
      "| 11|     Ben| 57|    372|\n",
      "| 12|   Keiko| 54|    253|\n",
      "| 13|Jean-Luc| 56|    444|\n",
      "| 14|    Hugh| 43|     49|\n",
      "| 15|     Rom| 36|     49|\n",
      "| 16|  Weyoun| 22|    323|\n",
      "| 17|     Odo| 35|     13|\n",
      "| 18|Jean-Luc| 45|    455|\n",
      "| 19|  Geordi| 60|    246|\n",
      "+---+--------+---+-------+\n",
      "only showing top 20 rows\n",
      "\n"
     ]
    }
   ],
   "source": [
    "df.show()"
   ]
  },
  {
   "cell_type": "markdown",
   "metadata": {},
   "source": [
    "## SQL Query on DataFrame"
   ]
  },
  {
   "cell_type": "code",
   "execution_count": 59,
   "metadata": {
    "collapsed": true
   },
   "outputs": [],
   "source": [
    "df.createOrReplaceTempView('fakefriends')\n",
    "#here, we register it as SQL temporary view\n",
    "#This \"fakefriends\" is a name of this temp view and we can use it to run query on it"
   ]
  },
  {
   "cell_type": "code",
   "execution_count": 60,
   "metadata": {
    "collapsed": true
   },
   "outputs": [],
   "source": [
    "result = spark.sql(\"select * from fakefriends\") \n",
    "#here, we pass sql query as string to spark which run on temp view fakefriends"
   ]
  },
  {
   "cell_type": "code",
   "execution_count": 61,
   "metadata": {
    "collapsed": false
   },
   "outputs": [
    {
     "name": "stdout",
     "output_type": "stream",
     "text": [
      "+---+--------+---+-------+\n",
      "| ID|    NAME|AGE|FRIENDS|\n",
      "+---+--------+---+-------+\n",
      "|  0|    Will| 33|    385|\n",
      "|  1|Jean-Luc| 26|      2|\n",
      "|  2|    Hugh| 55|    221|\n",
      "|  3|  Deanna| 40|    465|\n",
      "|  4|   Quark| 68|     21|\n",
      "|  5|  Weyoun| 59|    318|\n",
      "|  6|  Gowron| 37|    220|\n",
      "|  7|    Will| 54|    307|\n",
      "|  8|  Jadzia| 38|    380|\n",
      "|  9|    Hugh| 27|    181|\n",
      "| 10|     Odo| 53|    191|\n",
      "| 11|     Ben| 57|    372|\n",
      "| 12|   Keiko| 54|    253|\n",
      "| 13|Jean-Luc| 56|    444|\n",
      "| 14|    Hugh| 43|     49|\n",
      "| 15|     Rom| 36|     49|\n",
      "| 16|  Weyoun| 22|    323|\n",
      "| 17|     Odo| 35|     13|\n",
      "| 18|Jean-Luc| 45|    455|\n",
      "| 19|  Geordi| 60|    246|\n",
      "+---+--------+---+-------+\n",
      "only showing top 20 rows\n",
      "\n"
     ]
    }
   ],
   "source": [
    "result.show()\n",
    "#it show result"
   ]
  },
  {
   "cell_type": "code",
   "execution_count": 62,
   "metadata": {
    "collapsed": true
   },
   "outputs": [],
   "source": [
    "new_result = spark.sql(\"select * from fakefriends where NAME = 'Will'\")"
   ]
  },
  {
   "cell_type": "code",
   "execution_count": 63,
   "metadata": {
    "collapsed": false
   },
   "outputs": [
    {
     "name": "stdout",
     "output_type": "stream",
     "text": [
      "+---+----+---+-------+\n",
      "| ID|NAME|AGE|FRIENDS|\n",
      "+---+----+---+-------+\n",
      "|  0|Will| 33|    385|\n",
      "|  7|Will| 54|    307|\n",
      "| 76|Will| 62|    201|\n",
      "| 98|Will| 44|    178|\n",
      "|107|Will| 64|    419|\n",
      "|136|Will| 19|    335|\n",
      "|164|Will| 31|    172|\n",
      "|175|Will| 38|    459|\n",
      "|206|Will| 21|    491|\n",
      "|215|Will| 22|      6|\n",
      "|252|Will| 36|    174|\n",
      "|262|Will| 51|    334|\n",
      "|275|Will| 47|     13|\n",
      "|304|Will| 19|    404|\n",
      "|338|Will| 28|    180|\n",
      "|358|Will| 52|    276|\n",
      "|387|Will| 43|    335|\n",
      "|421|Will| 40|    261|\n",
      "|423|Will| 44|    388|\n",
      "+---+----+---+-------+\n",
      "\n"
     ]
    }
   ],
   "source": [
    "new_result.show()"
   ]
  },
  {
   "cell_type": "code",
   "execution_count": 64,
   "metadata": {
    "collapsed": true
   },
   "outputs": [],
   "source": [
    "from pyspark.sql import SparkSession"
   ]
  },
  {
   "cell_type": "code",
   "execution_count": 65,
   "metadata": {
    "collapsed": true
   },
   "outputs": [],
   "source": [
    "\n",
    "spark = SparkSession.builder.appName(\"Basics\").getOrCreate()"
   ]
  },
  {
   "cell_type": "code",
   "execution_count": 74,
   "metadata": {
    "collapsed": true
   },
   "outputs": [],
   "source": [
    "df = spark.read.csv(\"file:///home/icpl12900/Desktop/assignments/fakefriends.csv\")"
   ]
  },
  {
   "cell_type": "code",
   "execution_count": 75,
   "metadata": {
    "collapsed": false
   },
   "outputs": [
    {
     "name": "stdout",
     "output_type": "stream",
     "text": [
      "root\n",
      " |-- _c0: string (nullable = true)\n",
      " |-- _c1: string (nullable = true)\n",
      " |-- _c2: string (nullable = true)\n",
      " |-- _c3: string (nullable = true)\n",
      "\n"
     ]
    }
   ],
   "source": [
    "df.printSchema()"
   ]
  },
  {
   "cell_type": "code",
   "execution_count": 78,
   "metadata": {
    "collapsed": true
   },
   "outputs": [],
   "source": [
    "df = spark.read.csv(\"file:///home/icpl12900/Desktop/assignments/fakefriends.csv\",inferSchema=True)\n",
    "#it give data type according to value in that column"
   ]
  },
  {
   "cell_type": "code",
   "execution_count": 79,
   "metadata": {
    "collapsed": false
   },
   "outputs": [
    {
     "name": "stdout",
     "output_type": "stream",
     "text": [
      "root\n",
      " |-- _c0: integer (nullable = true)\n",
      " |-- _c1: string (nullable = true)\n",
      " |-- _c2: integer (nullable = true)\n",
      " |-- _c3: integer (nullable = true)\n",
      "\n"
     ]
    }
   ],
   "source": [
    "df.printSchema()"
   ]
  },
  {
   "cell_type": "code",
   "execution_count": 76,
   "metadata": {
    "collapsed": true
   },
   "outputs": [],
   "source": [
    "df = spark.read.csv(\"file:///home/icpl12900/Desktop/assignments/fakefriends.csv\",inferSchema=True,header=True)\n",
    "#header = True means return 1st row value as header if header is not there"
   ]
  },
  {
   "cell_type": "code",
   "execution_count": 77,
   "metadata": {
    "collapsed": false
   },
   "outputs": [
    {
     "name": "stdout",
     "output_type": "stream",
     "text": [
      "root\n",
      " |-- 0: integer (nullable = true)\n",
      " |-- Will: string (nullable = true)\n",
      " |-- 33: integer (nullable = true)\n",
      " |-- 385: integer (nullable = true)\n",
      "\n"
     ]
    }
   ],
   "source": [
    "df.printSchema()"
   ]
  },
  {
   "cell_type": "code",
   "execution_count": 81,
   "metadata": {
    "collapsed": false
   },
   "outputs": [
    {
     "name": "stdout",
     "output_type": "stream",
     "text": [
      "+---+--------+---+---+\n",
      "|_c0|     _c1|_c2|_c3|\n",
      "+---+--------+---+---+\n",
      "|  0|    Will| 33|385|\n",
      "|  1|Jean-Luc| 26|  2|\n",
      "|  2|    Hugh| 55|221|\n",
      "|  3|  Deanna| 40|465|\n",
      "|  4|   Quark| 68| 21|\n",
      "|  5|  Weyoun| 59|318|\n",
      "|  6|  Gowron| 37|220|\n",
      "|  7|    Will| 54|307|\n",
      "|  8|  Jadzia| 38|380|\n",
      "|  9|    Hugh| 27|181|\n",
      "| 10|     Odo| 53|191|\n",
      "| 11|     Ben| 57|372|\n",
      "| 12|   Keiko| 54|253|\n",
      "| 13|Jean-Luc| 56|444|\n",
      "| 14|    Hugh| 43| 49|\n",
      "| 15|     Rom| 36| 49|\n",
      "| 16|  Weyoun| 22|323|\n",
      "| 17|     Odo| 35| 13|\n",
      "| 18|Jean-Luc| 45|455|\n",
      "| 19|  Geordi| 60|246|\n",
      "+---+--------+---+---+\n",
      "only showing top 20 rows\n",
      "\n"
     ]
    }
   ],
   "source": [
    "df.show()"
   ]
  },
  {
   "cell_type": "code",
   "execution_count": 82,
   "metadata": {
    "collapsed": false
   },
   "outputs": [
    {
     "name": "stdout",
     "output_type": "stream",
     "text": [
      "+---+--------+---+---+\n",
      "|_c0|     _c1|_c2|_c3|\n",
      "+---+--------+---+---+\n",
      "|  0|    Will| 33|385|\n",
      "|  1|Jean-Luc| 26|  2|\n",
      "|  2|    Hugh| 55|221|\n",
      "|  3|  Deanna| 40|465|\n",
      "|  4|   Quark| 68| 21|\n",
      "+---+--------+---+---+\n",
      "\n"
     ]
    }
   ],
   "source": [
    "df.filter(\"_c0  < 5\").show()"
   ]
  },
  {
   "cell_type": "code",
   "execution_count": 84,
   "metadata": {
    "collapsed": false
   },
   "outputs": [
    {
     "name": "stdout",
     "output_type": "stream",
     "text": [
      "+--------+---+\n",
      "|     _c1|_c2|\n",
      "+--------+---+\n",
      "|    Will| 33|\n",
      "|Jean-Luc| 26|\n",
      "|    Hugh| 55|\n",
      "|  Deanna| 40|\n",
      "|   Quark| 68|\n",
      "+--------+---+\n",
      "\n"
     ]
    }
   ],
   "source": [
    "df.filter(\"_c0  < 5\").select(['_c1','_c2']).show()"
   ]
  },
  {
   "cell_type": "code",
   "execution_count": 85,
   "metadata": {
    "collapsed": false
   },
   "outputs": [
    {
     "name": "stdout",
     "output_type": "stream",
     "text": [
      "+--------+---+\n",
      "|     _c1|_c2|\n",
      "+--------+---+\n",
      "|    Will| 33|\n",
      "|Jean-Luc| 26|\n",
      "|    Hugh| 55|\n",
      "|  Deanna| 40|\n",
      "|   Quark| 68|\n",
      "+--------+---+\n",
      "\n"
     ]
    }
   ],
   "source": [
    "df.filter(df['_c0']  < 5).select(['_c1','_c2']).show()"
   ]
  },
  {
   "cell_type": "code",
   "execution_count": 86,
   "metadata": {
    "collapsed": false
   },
   "outputs": [
    {
     "name": "stdout",
     "output_type": "stream",
     "text": [
      "+---+------+---+\n",
      "|_c0|   _c1|_c2|\n",
      "+---+------+---+\n",
      "|  3|Deanna| 40|\n",
      "|  4| Quark| 68|\n",
      "+---+------+---+\n",
      "\n"
     ]
    }
   ],
   "source": [
    "df.filter((df['_c0']  < 5) & (df['_c0']>2)).select(['_c0','_c1','_c2']).show()"
   ]
  },
  {
   "cell_type": "code",
   "execution_count": 91,
   "metadata": {
    "collapsed": false,
    "scrolled": true
   },
   "outputs": [
    {
     "name": "stdout",
     "output_type": "stream",
     "text": [
      "+------+---+\n",
      "|   _c1|_c2|\n",
      "+------+---+\n",
      "|Weyoun| 59|\n",
      "+------+---+\n",
      "\n"
     ]
    }
   ],
   "source": [
    "result1 = df.filter(df['_c0']  == 5).select(['_c1','_c2']).show()\n",
    "#when we do .show() the it show the result and it not store that result in any variable"
   ]
  },
  {
   "cell_type": "code",
   "execution_count": 92,
   "metadata": {
    "collapsed": false
   },
   "outputs": [],
   "source": [
    "result1"
   ]
  },
  {
   "cell_type": "code",
   "execution_count": 93,
   "metadata": {
    "collapsed": true
   },
   "outputs": [],
   "source": [
    "result = df.filter(df['_c0']  == 5).select(['_c1','_c2']).collect()\n",
    "#but when we do .collect() then it store result in variable"
   ]
  },
  {
   "cell_type": "code",
   "execution_count": 94,
   "metadata": {
    "collapsed": false
   },
   "outputs": [
    {
     "data": {
      "text/plain": [
       "list"
      ]
     },
     "execution_count": 94,
     "metadata": {},
     "output_type": "execute_result"
    }
   ],
   "source": [
    "type(result)"
   ]
  },
  {
   "cell_type": "code",
   "execution_count": 95,
   "metadata": {
    "collapsed": false
   },
   "outputs": [
    {
     "data": {
      "text/plain": [
       "[Row(_c1=u'Weyoun', _c2=59)]"
      ]
     },
     "execution_count": 95,
     "metadata": {},
     "output_type": "execute_result"
    }
   ],
   "source": [
    "result"
   ]
  },
  {
   "cell_type": "code",
   "execution_count": 102,
   "metadata": {
    "collapsed": false
   },
   "outputs": [
    {
     "data": {
      "text/plain": [
       "Row(_c1=u'Weyoun', _c2=59)"
      ]
     },
     "execution_count": 102,
     "metadata": {},
     "output_type": "execute_result"
    }
   ],
   "source": [
    "result[0]"
   ]
  },
  {
   "cell_type": "code",
   "execution_count": 103,
   "metadata": {
    "collapsed": false
   },
   "outputs": [
    {
     "data": {
      "text/plain": [
       "59"
      ]
     },
     "execution_count": 103,
     "metadata": {},
     "output_type": "execute_result"
    }
   ],
   "source": [
    "result[0][1]"
   ]
  },
  {
   "cell_type": "code",
   "execution_count": 104,
   "metadata": {
    "collapsed": false
   },
   "outputs": [
    {
     "data": {
      "text/plain": [
       "pyspark.sql.types.Row"
      ]
     },
     "execution_count": 104,
     "metadata": {},
     "output_type": "execute_result"
    }
   ],
   "source": [
    "type(result[0])"
   ]
  },
  {
   "cell_type": "code",
   "execution_count": 107,
   "metadata": {
    "collapsed": false
   },
   "outputs": [],
   "source": [
    "row = result[0]"
   ]
  },
  {
   "cell_type": "code",
   "execution_count": 110,
   "metadata": {
    "collapsed": false
   },
   "outputs": [
    {
     "data": {
      "text/plain": [
       "{'_c1': u'Weyoun', '_c2': 59}"
      ]
     },
     "execution_count": 110,
     "metadata": {},
     "output_type": "execute_result"
    }
   ],
   "source": [
    "row.asDict()\n",
    "#it create dictionary from value in dataframe"
   ]
  },
  {
   "cell_type": "code",
   "execution_count": 111,
   "metadata": {
    "collapsed": false
   },
   "outputs": [
    {
     "data": {
      "text/plain": [
       "u'Weyoun'"
      ]
     },
     "execution_count": 111,
     "metadata": {},
     "output_type": "execute_result"
    }
   ],
   "source": [
    "row['_c1']"
   ]
  },
  {
   "cell_type": "markdown",
   "metadata": {},
   "source": [
    "### GROUP BY"
   ]
  },
  {
   "cell_type": "code",
   "execution_count": 116,
   "metadata": {
    "collapsed": false
   },
   "outputs": [
    {
     "name": "stdout",
     "output_type": "stream",
     "text": [
      "+--------+--------+--------+--------+\n",
      "|     _c1|sum(_c0)|sum(_c2)|sum(_c3)|\n",
      "+--------+--------+--------+--------+\n",
      "|    Data|    7470|    1084|    7192|\n",
      "| Beverly|    5040|     811|    6128|\n",
      "|    Hugh|    4725|     993|    5005|\n",
      "|   Dukat|    4987|     877|    5317|\n",
      "|Jean-Luc|    3020|     779|    4891|\n",
      "|     Nog|    6401|     933|    5399|\n",
      "|     Odo|    2800|     638|    4208|\n",
      "|  Kasidy|    4381|     738|    4282|\n",
      "|  Guinan|    3322|     556|    3025|\n",
      "|   Leeta|    3397|     624|    3909|\n",
      "|     Rom|    2734|     596|    2903|\n",
      "|  Geordi|    4906|     887|    4728|\n",
      "|   Brunt|    5934|     941|    4805|\n",
      "|  Deanna|    4161|     762|    3479|\n",
      "|     Ben|    3971|     814|    4888|\n",
      "|  Weyoun|    4119|     567|    3677|\n",
      "|   Miles|    1932|     369|    1942|\n",
      "|    Will|    4204|     748|    5318|\n",
      "|  Julian|    3229|     476|    2279|\n",
      "| Lwaxana|    3455|     498|    2940|\n",
      "+--------+--------+--------+--------+\n",
      "only showing top 20 rows\n",
      "\n"
     ]
    }
   ],
   "source": [
    "df.groupBy('_c1').sum().show() \n",
    "#it do sum of all integer columns"
   ]
  },
  {
   "cell_type": "code",
   "execution_count": 117,
   "metadata": {
    "collapsed": false
   },
   "outputs": [
    {
     "name": "stdout",
     "output_type": "stream",
     "text": [
      "+--------+--------+\n",
      "|     _c1|sum(_c0)|\n",
      "+--------+--------+\n",
      "|    Data|    7470|\n",
      "| Beverly|    5040|\n",
      "|    Hugh|    4725|\n",
      "|   Dukat|    4987|\n",
      "|Jean-Luc|    3020|\n",
      "|     Nog|    6401|\n",
      "|     Odo|    2800|\n",
      "|  Kasidy|    4381|\n",
      "|  Guinan|    3322|\n",
      "|   Leeta|    3397|\n",
      "|     Rom|    2734|\n",
      "|  Geordi|    4906|\n",
      "|   Brunt|    5934|\n",
      "|  Deanna|    4161|\n",
      "|     Ben|    3971|\n",
      "|  Weyoun|    4119|\n",
      "|   Miles|    1932|\n",
      "|    Will|    4204|\n",
      "|  Julian|    3229|\n",
      "| Lwaxana|    3455|\n",
      "+--------+--------+\n",
      "only showing top 20 rows\n",
      "\n"
     ]
    }
   ],
   "source": [
    "df.groupBy('_c1').sum('_c0').show()\n",
    "#it do sum of only _c0 column and return _c1 and _c0 column"
   ]
  },
  {
   "cell_type": "code",
   "execution_count": 118,
   "metadata": {
    "collapsed": false
   },
   "outputs": [
    {
     "name": "stdout",
     "output_type": "stream",
     "text": [
      "+--------+-----+\n",
      "|     _c1|count|\n",
      "+--------+-----+\n",
      "|    Data|   25|\n",
      "| Beverly|   20|\n",
      "|    Hugh|   20|\n",
      "|   Dukat|   21|\n",
      "|Jean-Luc|   16|\n",
      "|     Nog|   22|\n",
      "|     Odo|   15|\n",
      "|  Kasidy|   19|\n",
      "|  Guinan|   12|\n",
      "|   Leeta|   15|\n",
      "|     Rom|   12|\n",
      "|  Geordi|   20|\n",
      "|   Brunt|   22|\n",
      "|  Deanna|   17|\n",
      "|     Ben|   17|\n",
      "|  Weyoun|   15|\n",
      "|   Miles|   10|\n",
      "|    Will|   19|\n",
      "|  Julian|   12|\n",
      "| Lwaxana|   12|\n",
      "+--------+-----+\n",
      "only showing top 20 rows\n",
      "\n"
     ]
    }
   ],
   "source": [
    "df.groupBy('_c1').count().show() \n",
    "#it count no of rows for each name"
   ]
  },
  {
   "cell_type": "code",
   "execution_count": 119,
   "metadata": {
    "collapsed": false
   },
   "outputs": [
    {
     "name": "stdout",
     "output_type": "stream",
     "text": [
      "+--------+--------+--------+--------+\n",
      "|     _c1|min(_c0)|min(_c2)|min(_c3)|\n",
      "+--------+--------+--------+--------+\n",
      "|    Data|      78|      18|      61|\n",
      "| Beverly|      35|      18|      92|\n",
      "|    Hugh|       2|      23|      49|\n",
      "|   Dukat|      33|      18|      18|\n",
      "|Jean-Luc|       1|      26|       2|\n",
      "|     Nog|      29|      19|       1|\n",
      "|     Odo|      10|      26|      13|\n",
      "|  Kasidy|      36|      18|       2|\n",
      "|  Guinan|      43|      31|      74|\n",
      "|   Leeta|      27|      22|       7|\n",
      "|     Rom|      15|      34|       2|\n",
      "|  Geordi|      19|      20|      21|\n",
      "|   Brunt|      42|      19|       5|\n",
      "|  Deanna|       3|      23|      22|\n",
      "|     Ben|      11|      21|      73|\n",
      "|  Weyoun|       5|      21|      38|\n",
      "|   Miles|      21|      19|      10|\n",
      "|    Will|       0|      19|       6|\n",
      "|  Julian|      24|      20|       1|\n",
      "| Lwaxana|      51|      25|      10|\n",
      "+--------+--------+--------+--------+\n",
      "only showing top 20 rows\n",
      "\n"
     ]
    }
   ],
   "source": [
    "df.groupBy('_c1').min().show() \n",
    "#find minimum of each name"
   ]
  },
  {
   "cell_type": "markdown",
   "metadata": {},
   "source": [
    "### agg"
   ]
  },
  {
   "cell_type": "code",
   "execution_count": 120,
   "metadata": {
    "collapsed": false
   },
   "outputs": [
    {
     "name": "stdout",
     "output_type": "stream",
     "text": [
      "+--------+\n",
      "|sum(_c0)|\n",
      "+--------+\n",
      "|  124750|\n",
      "+--------+\n",
      "\n"
     ]
    }
   ],
   "source": [
    "df.agg({'_c0':'sum'}).show()\n",
    "#_c0 is name of column and sum is operation on that column\n",
    "#in df.agg we give name of column and operation that we want to perform on that column"
   ]
  },
  {
   "cell_type": "markdown",
   "metadata": {},
   "source": [
    "#### Use both function together"
   ]
  },
  {
   "cell_type": "code",
   "execution_count": 124,
   "metadata": {
    "collapsed": true
   },
   "outputs": [],
   "source": [
    "group_data = df.groupBy('_c1')"
   ]
  },
  {
   "cell_type": "code",
   "execution_count": 125,
   "metadata": {
    "collapsed": false
   },
   "outputs": [
    {
     "name": "stdout",
     "output_type": "stream",
     "text": [
      "+--------+--------+\n",
      "|     _c1|max(_c0)|\n",
      "+--------+--------+\n",
      "|    Data|     495|\n",
      "| Beverly|     464|\n",
      "|    Hugh|     493|\n",
      "|   Dukat|     492|\n",
      "|Jean-Luc|     476|\n",
      "|     Nog|     488|\n",
      "|     Odo|     489|\n",
      "|  Kasidy|     494|\n",
      "|  Guinan|     445|\n",
      "|   Leeta|     499|\n",
      "|     Rom|     491|\n",
      "|  Geordi|     480|\n",
      "|   Brunt|     487|\n",
      "|  Deanna|     470|\n",
      "|     Ben|     482|\n",
      "|  Weyoun|     467|\n",
      "|   Miles|     407|\n",
      "|    Will|     423|\n",
      "|  Julian|     453|\n",
      "| Lwaxana|     497|\n",
      "+--------+--------+\n",
      "only showing top 20 rows\n",
      "\n"
     ]
    }
   ],
   "source": [
    "group_data.agg({'_c0':'max'}).show()"
   ]
  },
  {
   "cell_type": "code",
   "execution_count": 126,
   "metadata": {
    "collapsed": true
   },
   "outputs": [],
   "source": [
    "from pyspark.sql.functions import countDistinct,avg"
   ]
  },
  {
   "cell_type": "code",
   "execution_count": 127,
   "metadata": {
    "collapsed": false
   },
   "outputs": [
    {
     "name": "stdout",
     "output_type": "stream",
     "text": [
      "+--------+\n",
      "|avg(_c0)|\n",
      "+--------+\n",
      "|   249.5|\n",
      "+--------+\n",
      "\n"
     ]
    }
   ],
   "source": [
    "df.select(avg('_c0')).show()"
   ]
  },
  {
   "cell_type": "code",
   "execution_count": 128,
   "metadata": {
    "collapsed": false
   },
   "outputs": [
    {
     "name": "stdout",
     "output_type": "stream",
     "text": [
      "+-------------------+\n",
      "|count(DISTINCT _c0)|\n",
      "+-------------------+\n",
      "|                500|\n",
      "+-------------------+\n",
      "\n"
     ]
    }
   ],
   "source": [
    "df.select(countDistinct('_c0')).show()"
   ]
  },
  {
   "cell_type": "code",
   "execution_count": 129,
   "metadata": {
    "collapsed": false
   },
   "outputs": [
    {
     "name": "stdout",
     "output_type": "stream",
     "text": [
      "+-------+\n",
      "|average|\n",
      "+-------+\n",
      "|  249.5|\n",
      "+-------+\n",
      "\n"
     ]
    }
   ],
   "source": [
    "df.select(avg('_c0').alias('average')).show()"
   ]
  },
  {
   "cell_type": "markdown",
   "metadata": {},
   "source": [
    "##### orderBy"
   ]
  },
  {
   "cell_type": "code",
   "execution_count": 130,
   "metadata": {
    "collapsed": false
   },
   "outputs": [
    {
     "name": "stdout",
     "output_type": "stream",
     "text": [
      "+---+--------+---+---+\n",
      "|_c0|     _c1|_c2|_c3|\n",
      "+---+--------+---+---+\n",
      "|  0|    Will| 33|385|\n",
      "|  1|Jean-Luc| 26|  2|\n",
      "|  2|    Hugh| 55|221|\n",
      "|  3|  Deanna| 40|465|\n",
      "|  4|   Quark| 68| 21|\n",
      "|  5|  Weyoun| 59|318|\n",
      "|  6|  Gowron| 37|220|\n",
      "|  7|    Will| 54|307|\n",
      "|  8|  Jadzia| 38|380|\n",
      "|  9|    Hugh| 27|181|\n",
      "| 10|     Odo| 53|191|\n",
      "| 11|     Ben| 57|372|\n",
      "| 12|   Keiko| 54|253|\n",
      "| 13|Jean-Luc| 56|444|\n",
      "| 14|    Hugh| 43| 49|\n",
      "| 15|     Rom| 36| 49|\n",
      "| 16|  Weyoun| 22|323|\n",
      "| 17|     Odo| 35| 13|\n",
      "| 18|Jean-Luc| 45|455|\n",
      "| 19|  Geordi| 60|246|\n",
      "+---+--------+---+---+\n",
      "only showing top 20 rows\n",
      "\n"
     ]
    }
   ],
   "source": [
    "df.show()"
   ]
  },
  {
   "cell_type": "code",
   "execution_count": 133,
   "metadata": {
    "collapsed": false
   },
   "outputs": [
    {
     "name": "stdout",
     "output_type": "stream",
     "text": [
      "+---+-------+---+---+\n",
      "|_c0|    _c1|_c2|_c3|\n",
      "+---+-------+---+---+\n",
      "|106|Beverly| 18|499|\n",
      "|439|   Data| 18|417|\n",
      "|377|Beverly| 18|418|\n",
      "|444|  Keiko| 18|472|\n",
      "|494| Kasidy| 18|194|\n",
      "|115|  Dukat| 18|397|\n",
      "|341|   Data| 18|326|\n",
      "|404| Kasidy| 18| 24|\n",
      "| 21|  Miles| 19|268|\n",
      "|304|   Will| 19|404|\n",
      "|136|   Will| 19|335|\n",
      "|133|  Quark| 19|265|\n",
      "|373|  Quark| 19|272|\n",
      "|366|  Keiko| 19|119|\n",
      "|409|    Nog| 19|267|\n",
      "| 52|Beverly| 19|269|\n",
      "|225|   Elim| 19|106|\n",
      "|492|  Dukat| 19| 36|\n",
      "| 54|  Brunt| 19|  5|\n",
      "| 48|    Nog| 20|  1|\n",
      "+---+-------+---+---+\n",
      "only showing top 20 rows\n",
      "\n"
     ]
    }
   ],
   "source": [
    "df.orderBy('_c2').show()\n",
    "#in ascending order"
   ]
  },
  {
   "cell_type": "code",
   "execution_count": 134,
   "metadata": {
    "collapsed": false
   },
   "outputs": [
    {
     "name": "stdout",
     "output_type": "stream",
     "text": [
      "+---+--------+---+---+\n",
      "|_c0|     _c1|_c2|_c3|\n",
      "+---+--------+---+---+\n",
      "| 99|   Keiko| 69|491|\n",
      "|205|    Morn| 69|236|\n",
      "|253|   Leeta| 69|116|\n",
      "| 97|   Nerys| 69|361|\n",
      "|354|  Kasidy| 69| 15|\n",
      "|383|    Data| 69|148|\n",
      "|116|     Ben| 69| 75|\n",
      "|397|   Quark| 69|470|\n",
      "|487|   Brunt| 69|431|\n",
      "| 62|   Keiko| 69|  9|\n",
      "|  4|   Quark| 68| 21|\n",
      "|170|Jean-Luc| 68|490|\n",
      "|258|    Worf| 68|217|\n",
      "|120|Jean-Luc| 68|264|\n",
      "|168|  Martok| 68|112|\n",
      "|232|    Worf| 68|481|\n",
      "|310|     Odo| 68|189|\n",
      "|428| Lwaxana| 68|423|\n",
      "|361|    Worf| 68|206|\n",
      "|374|     Nog| 68|293|\n",
      "+---+--------+---+---+\n",
      "only showing top 20 rows\n",
      "\n"
     ]
    }
   ],
   "source": [
    "df.orderBy(df['_c2'].desc()).show()\n",
    "#in descinding order"
   ]
  },
  {
   "cell_type": "code",
   "execution_count": 136,
   "metadata": {
    "collapsed": false
   },
   "outputs": [
    {
     "name": "stdout",
     "output_type": "stream",
     "text": [
      "+---+-------+---+---+\n",
      "|_c0|    _c1|_c2|_c3|\n",
      "+---+-------+---+---+\n",
      "| 84|    Ben| 28|311|\n",
      "|134|    Ben| 45|340|\n",
      "|118|    Ben| 28|304|\n",
      "| 11|    Ben| 57|372|\n",
      "|183|    Ben| 47|488|\n",
      "| 25|    Ben| 21|445|\n",
      "|297|    Ben| 45|395|\n",
      "|333|    Ben| 29|207|\n",
      "|391|    Ben| 64|309|\n",
      "|406|    Ben| 57|121|\n",
      "|422|    Ben| 67|292|\n",
      "|475|    Ben| 52|446|\n",
      "|482|    Ben| 48|146|\n",
      "|195|    Ben| 30|376|\n",
      "| 88|    Ben| 66|188|\n",
      "|211|    Ben| 61| 73|\n",
      "|116|    Ben| 69| 75|\n",
      "|149|Beverly| 49|340|\n",
      "|106|Beverly| 18|499|\n",
      "|269|Beverly| 55|289|\n",
      "+---+-------+---+---+\n",
      "only showing top 20 rows\n",
      "\n"
     ]
    }
   ],
   "source": [
    "df.orderBy('_c1').show()\n",
    "#we can do orderBy on string"
   ]
  },
  {
   "cell_type": "markdown",
   "metadata": {},
   "source": [
    "### DROP MISSING VALUES\n"
   ]
  },
  {
   "cell_type": "code",
   "execution_count": 144,
   "metadata": {
    "collapsed": true
   },
   "outputs": [],
   "source": [
    "df = spark.read.csv(\"file:///home/icpl12900/Desktop/data_files/missing_data.csv\")"
   ]
  },
  {
   "cell_type": "code",
   "execution_count": 145,
   "metadata": {
    "collapsed": false
   },
   "outputs": [
    {
     "name": "stdout",
     "output_type": "stream",
     "text": [
      "+---+---------+-------+----+----+\n",
      "|_c0|      _c1|    _c2| _c3| _c4|\n",
      "+---+---------+-------+----+----+\n",
      "| id|     name|college|date|year|\n",
      "|  1|pratiksha|   coep|  11|null|\n",
      "|  2|    sayli|   null|  11|2012|\n",
      "|  3|     anki|   vjti|null|2013|\n",
      "|  4|      abc|   coep|  11|null|\n",
      "|  5|      xyz|   null|null|2012|\n",
      "+---+---------+-------+----+----+\n",
      "\n"
     ]
    }
   ],
   "source": [
    "df.show()"
   ]
  },
  {
   "cell_type": "code",
   "execution_count": 146,
   "metadata": {
    "collapsed": false
   },
   "outputs": [
    {
     "name": "stdout",
     "output_type": "stream",
     "text": [
      "+---+----+-------+----+----+\n",
      "|_c0| _c1|    _c2| _c3| _c4|\n",
      "+---+----+-------+----+----+\n",
      "| id|name|college|date|year|\n",
      "+---+----+-------+----+----+\n",
      "\n"
     ]
    }
   ],
   "source": [
    "df.na.drop().show()\n",
    "#it drop row if it have na i.e null value in it"
   ]
  },
  {
   "cell_type": "code",
   "execution_count": 158,
   "metadata": {
    "collapsed": false
   },
   "outputs": [
    {
     "name": "stdout",
     "output_type": "stream",
     "text": [
      "+---+---------+-------+----+----+\n",
      "|_c0|      _c1|    _c2| _c3| _c4|\n",
      "+---+---------+-------+----+----+\n",
      "| id|     name|college|date|year|\n",
      "|  1|pratiksha|   coep|  11|null|\n",
      "|  2|    sayli|   null|  11|2012|\n",
      "|  3|     anki|   vjti|null|2013|\n",
      "|  4|      abc|   coep|  11|null|\n",
      "|  5|      xyz|   null|null|2012|\n",
      "+---+---------+-------+----+----+\n",
      "\n"
     ]
    }
   ],
   "source": [
    "df.na.drop(thresh=2).show()\n",
    "#here we give parameter thresh, if any row have atleast 2 null value then drop that row"
   ]
  },
  {
   "cell_type": "code",
   "execution_count": 154,
   "metadata": {
    "collapsed": false
   },
   "outputs": [
    {
     "name": "stdout",
     "output_type": "stream",
     "text": [
      "+---+----+-------+----+----+\n",
      "|_c0| _c1|    _c2| _c3| _c4|\n",
      "+---+----+-------+----+----+\n",
      "| id|name|college|date|year|\n",
      "+---+----+-------+----+----+\n",
      "\n"
     ]
    }
   ],
   "source": [
    "df.na.drop(how='any').show()\n",
    "#drop row if it have any null value"
   ]
  },
  {
   "cell_type": "code",
   "execution_count": 159,
   "metadata": {
    "collapsed": false
   },
   "outputs": [
    {
     "name": "stdout",
     "output_type": "stream",
     "text": [
      "+---+---------+-------+----+----+\n",
      "|_c0|      _c1|    _c2| _c3| _c4|\n",
      "+---+---------+-------+----+----+\n",
      "| id|     name|college|date|year|\n",
      "|  1|pratiksha|   coep|  11|null|\n",
      "|  2|    sayli|   null|  11|2012|\n",
      "|  3|     anki|   vjti|null|2013|\n",
      "|  4|      abc|   coep|  11|null|\n",
      "|  5|      xyz|   null|null|2012|\n",
      "+---+---------+-------+----+----+\n",
      "\n"
     ]
    }
   ],
   "source": [
    "df.na.drop(how='all').show()\n",
    "#drop row if it have all null value"
   ]
  },
  {
   "cell_type": "code",
   "execution_count": 161,
   "metadata": {
    "collapsed": false
   },
   "outputs": [
    {
     "name": "stdout",
     "output_type": "stream",
     "text": [
      "+---+---------+-------+----+----+\n",
      "|_c0|      _c1|    _c2| _c3| _c4|\n",
      "+---+---------+-------+----+----+\n",
      "| id|     name|college|date|year|\n",
      "|  1|pratiksha|   coep|  11|null|\n",
      "|  3|     anki|   vjti|null|2013|\n",
      "|  4|      abc|   coep|  11|null|\n",
      "+---+---------+-------+----+----+\n",
      "\n"
     ]
    }
   ],
   "source": [
    "df.na.drop(subset=['_c2']).show()\n",
    "#here we give subset i.e if that subset means columns given in that subset is contain null value then drop that row\n",
    "# and if other coulumn instead of that subset column contain null value then keep it is as "
   ]
  },
  {
   "cell_type": "code",
   "execution_count": 163,
   "metadata": {
    "collapsed": false
   },
   "outputs": [],
   "source": [
    "from pyspark.sql.functions import mean"
   ]
  },
  {
   "cell_type": "code",
   "execution_count": 174,
   "metadata": {
    "collapsed": false
   },
   "outputs": [
    {
     "ename": "TypeError",
     "evalue": "int() argument must be a string or a number, not 'list'",
     "output_type": "error",
     "traceback": [
      "\u001b[0;31m---------------------------------------------------------------------------\u001b[0m",
      "\u001b[0;31mTypeError\u001b[0m                                 Traceback (most recent call last)",
      "\u001b[0;32m<ipython-input-174-718cc19266a4>\u001b[0m in \u001b[0;36m<module>\u001b[0;34m()\u001b[0m\n\u001b[0;32m----> 1\u001b[0;31m \u001b[0mmean_val\u001b[0m \u001b[0;34m=\u001b[0m \u001b[0mint\u001b[0m\u001b[0;34m(\u001b[0m\u001b[0mdf\u001b[0m\u001b[0;34m.\u001b[0m\u001b[0mselect\u001b[0m\u001b[0;34m(\u001b[0m\u001b[0mmean\u001b[0m\u001b[0;34m(\u001b[0m\u001b[0mdf\u001b[0m\u001b[0;34m[\u001b[0m\u001b[0;34m'_c0'\u001b[0m\u001b[0;34m]\u001b[0m\u001b[0;34m)\u001b[0m\u001b[0;34m)\u001b[0m\u001b[0;34m.\u001b[0m\u001b[0mcollect\u001b[0m\u001b[0;34m(\u001b[0m\u001b[0;34m)\u001b[0m\u001b[0;34m)\u001b[0m\u001b[0;34m\u001b[0m\u001b[0m\n\u001b[0m",
      "\u001b[0;31mTypeError\u001b[0m: int() argument must be a string or a number, not 'list'"
     ]
    }
   ],
   "source": [
    "mean_val = df.select(mean(df['_c0'])).collect()"
   ]
  },
  {
   "cell_type": "code",
   "execution_count": 167,
   "metadata": {
    "collapsed": false
   },
   "outputs": [
    {
     "data": {
      "text/plain": [
       "[Row(avg(_c0)=3.0)]"
      ]
     },
     "execution_count": 167,
     "metadata": {},
     "output_type": "execute_result"
    }
   ],
   "source": [
    "mean_val\n",
    "#without index it return list"
   ]
  },
  {
   "cell_type": "code",
   "execution_count": 170,
   "metadata": {
    "collapsed": false
   },
   "outputs": [
    {
     "data": {
      "text/plain": [
       "Row(avg(_c0)=3.0)"
      ]
     },
     "execution_count": 170,
     "metadata": {},
     "output_type": "execute_result"
    }
   ],
   "source": [
    "mean_val[0]\n",
    "#with 0 index it return 1st value in list"
   ]
  },
  {
   "cell_type": "code",
   "execution_count": 175,
   "metadata": {
    "collapsed": false
   },
   "outputs": [],
   "source": [
    "mean_val = int(mean_val[0][0])\n",
    "#with [0][0] return 1st value "
   ]
  },
  {
   "cell_type": "code",
   "execution_count": 178,
   "metadata": {
    "collapsed": false
   },
   "outputs": [
    {
     "name": "stdout",
     "output_type": "stream",
     "text": [
      "+---+---------+-------+----+----+\n",
      "|_c0|      _c1|    _c2| _c3| _c4|\n",
      "+---+---------+-------+----+----+\n",
      "| id|     name|college|date|year|\n",
      "|  1|pratiksha|   coep|  11|null|\n",
      "|  2|    sayli|   null|  11|2012|\n",
      "|  3|     anki|   vjti|null|2013|\n",
      "|  4|      abc|   coep|  11|null|\n",
      "|  5|      xyz|   null|null|2012|\n",
      "+---+---------+-------+----+----+\n",
      "\n"
     ]
    }
   ],
   "source": [
    "df.na.fill(mean_val,['_c0']).show()\n",
    "#it fill null value at column _c0 with mean value"
   ]
  },
  {
   "cell_type": "code",
   "execution_count": 179,
   "metadata": {
    "collapsed": false
   },
   "outputs": [
    {
     "name": "stdout",
     "output_type": "stream",
     "text": [
      "+---+---------+-------+----+----+\n",
      "|_c0|      _c1|    _c2| _c3| _c4|\n",
      "+---+---------+-------+----+----+\n",
      "| id|     name|college|date|year|\n",
      "|  1|pratiksha|   coep|  11|null|\n",
      "|  2|    sayli|   null|  11|2012|\n",
      "|  3|     anki|   vjti|null|2013|\n",
      "|  4|      abc|   coep|  11|null|\n",
      "|  5|      xyz|   null|null|2012|\n",
      "+---+---------+-------+----+----+\n",
      "\n"
     ]
    }
   ],
   "source": [
    "df.na.fill(int(df.select(mean(df['_c0'])).collect()[0][0]),['_c0']).show()\n",
    "#it also do same operation"
   ]
  },
  {
   "cell_type": "code",
   "execution_count": 180,
   "metadata": {
    "collapsed": false
   },
   "outputs": [
    {
     "name": "stdout",
     "output_type": "stream",
     "text": [
      "+---+---------+-------+----+----+\n",
      "|_c0|      _c1|    _c2| _c3| _c4|\n",
      "+---+---------+-------+----+----+\n",
      "| id|     name|college|date|year|\n",
      "|  1|pratiksha|   coep|  11|null|\n",
      "|  2|    sayli|   null|  11|2012|\n",
      "|  3|     anki|   vjti|null|2013|\n",
      "|  4|      abc|   coep|  11|null|\n",
      "|  5|      xyz|   null|null|2012|\n",
      "+---+---------+-------+----+----+\n",
      "\n"
     ]
    }
   ],
   "source": [
    "df.show()"
   ]
  },
  {
   "cell_type": "code",
   "execution_count": 185,
   "metadata": {
    "collapsed": false
   },
   "outputs": [
    {
     "name": "stdout",
     "output_type": "stream",
     "text": [
      "+---+---------+-------+----+----+\n",
      "|_c0|      _c1|    _c2| _c3| _c4|\n",
      "+---+---------+-------+----+----+\n",
      "| id|     name|college|date|year|\n",
      "|  1|pratiksha|   coep|  11|   0|\n",
      "|  2|    sayli|      0|  11|2012|\n",
      "|  3|     anki|   vjti|   0|2013|\n",
      "|  4|      abc|   coep|  11|   0|\n",
      "|  5|      xyz|      0|   0|2012|\n",
      "+---+---------+-------+----+----+\n",
      "\n"
     ]
    }
   ],
   "source": [
    "df.na.fill('0').show()"
   ]
  },
  {
   "cell_type": "code",
   "execution_count": 183,
   "metadata": {
    "collapsed": false
   },
   "outputs": [
    {
     "name": "stdout",
     "output_type": "stream",
     "text": [
      "root\n",
      " |-- _c0: string (nullable = true)\n",
      " |-- _c1: string (nullable = true)\n",
      " |-- _c2: string (nullable = true)\n",
      " |-- _c3: string (nullable = true)\n",
      " |-- _c4: string (nullable = true)\n",
      "\n"
     ]
    }
   ],
   "source": [
    "df.printSchema()"
   ]
  },
  {
   "cell_type": "markdown",
   "metadata": {},
   "source": [
    "### some operations with JSON data"
   ]
  },
  {
   "cell_type": "code",
   "execution_count": null,
   "metadata": {
    "collapsed": false
   },
   "outputs": [],
   "source": [
    "\n"
   ]
  },
  {
   "cell_type": "code",
   "execution_count": 199,
   "metadata": {
    "collapsed": false
   },
   "outputs": [],
   "source": [
    "df_json = spark.read.json(\"file:///home/icpl12900/Desktop/2015-summary.json\")"
   ]
  },
  {
   "cell_type": "code",
   "execution_count": 200,
   "metadata": {
    "collapsed": false
   },
   "outputs": [
    {
     "name": "stdout",
     "output_type": "stream",
     "text": [
      "+--------------------+-------------------+-----+\n",
      "|   DEST_COUNTRY_NAME|ORIGIN_COUNTRY_NAME|count|\n",
      "+--------------------+-------------------+-----+\n",
      "|       United States|            Romania|   15|\n",
      "|       United States|            Croatia|    1|\n",
      "|       United States|            Ireland|  344|\n",
      "|               Egypt|      United States|   15|\n",
      "|       United States|              India|   62|\n",
      "|       United States|          Singapore|    1|\n",
      "|       United States|            Grenada|   62|\n",
      "|          Costa Rica|      United States|  588|\n",
      "|             Senegal|      United States|   40|\n",
      "|             Moldova|      United States|    1|\n",
      "|       United States|       Sint Maarten|  325|\n",
      "|       United States|   Marshall Islands|   39|\n",
      "|              Guyana|      United States|   64|\n",
      "|               Malta|      United States|    1|\n",
      "|            Anguilla|      United States|   41|\n",
      "|             Bolivia|      United States|   30|\n",
      "|       United States|           Paraguay|    6|\n",
      "|             Algeria|      United States|    4|\n",
      "|Turks and Caicos ...|      United States|  230|\n",
      "|       United States|          Gibraltar|    1|\n",
      "+--------------------+-------------------+-----+\n",
      "only showing top 20 rows\n",
      "\n"
     ]
    }
   ],
   "source": [
    "df_json.show()"
   ]
  },
  {
   "cell_type": "markdown",
   "metadata": {},
   "source": [
    "## TIME ZONE"
   ]
  },
  {
   "cell_type": "code",
   "execution_count": 1,
   "metadata": {
    "collapsed": true
   },
   "outputs": [],
   "source": [
    "from pyspark.sql.functions import (dayofmonth,hour,year,month,format_number,date_format)"
   ]
  },
  {
   "cell_type": "code",
   "execution_count": 30,
   "metadata": {
    "collapsed": true
   },
   "outputs": [],
   "source": [
    "df = spark.read.csv(\"file:///home/icpl12900/Desktop/assignments/Crimes_-_2001_to_present.csv\",inferSchema=True,header=True)"
   ]
  },
  {
   "cell_type": "code",
   "execution_count": 31,
   "metadata": {
    "collapsed": false,
    "scrolled": true
   },
   "outputs": [
    {
     "name": "stdout",
     "output_type": "stream",
     "text": [
      "+--------+-----------+--------------------+--------------------+----+--------------------+--------------------+--------------------+------+--------+----+--------+----+--------------+--------+------------+------------+----+--------------------+------------+-------------+--------------------+\n",
      "|      ID|Case Number|                Date|               Block|IUCR|        Primary Type|         Description|Location Description|Arrest|Domestic|Beat|District|Ward|Community Area|FBI Code|X Coordinate|Y Coordinate|Year|          Updated On|    Latitude|    Longitude|            Location|\n",
      "+--------+-----------+--------------------+--------------------+----+--------------------+--------------------+--------------------+------+--------+----+--------+----+--------------+--------+------------+------------+----+--------------------+------------+-------------+--------------------+\n",
      "|10000092|   HY189866|03/18/2015 07:44:...|     047XX W OHIO ST|041A|             BATTERY| AGGRAVATED: HANDGUN|              STREET| false|   false|1111|      11|  28|            25|     04B|     1144606|     1903566|2015|02/10/2018 03:50:...|41.891398861|-87.744384567|(41.891398861, -8...|\n",
      "|10000094|   HY190059|03/18/2015 11:00:...|066XX S MARSHFIEL...|4625|       OTHER OFFENSE|    PAROLE VIOLATION|              STREET|  true|   false| 725|       7|  15|            67|      26|     1166468|     1860715|2015|02/10/2018 03:50:...|41.773371528|-87.665319468|(41.773371528, -8...|\n",
      "|10000095|   HY190052|03/18/2015 10:45:...|044XX S LAKE PARK...|0486|             BATTERY|DOMESTIC BATTERY ...|           APARTMENT| false|    true| 222|       2|   4|            39|     08B|     1185075|     1875622|2015|02/10/2018 03:50:...| 41.81386068|-87.596642837|(41.81386068, -87...|\n",
      "|10000096|   HY190054|03/18/2015 10:30:...|051XX S MICHIGAN AVE|0460|             BATTERY|              SIMPLE|           APARTMENT| false|   false| 225|       2|   3|            40|     08B|     1178033|     1870804|2015|02/10/2018 03:50:...|41.800802415|-87.622619343|(41.800802415, -8...|\n",
      "|10000097|   HY189976|03/18/2015 09:00:...|    047XX W ADAMS ST|031A|             ROBBERY|      ARMED: HANDGUN|            SIDEWALK| false|   false|1113|      11|  28|            25|      03|     1144920|     1898709|2015|02/10/2018 03:50:...|41.878064761|-87.743354013|(41.878064761, -8...|\n",
      "|10000098|   HY190032|03/18/2015 10:00:...| 049XX S DREXEL BLVD|0460|             BATTERY|              SIMPLE|           APARTMENT| false|   false| 223|       2|   4|            39|     08B|     1183018|     1872537|2015|02/10/2018 03:50:...|41.805443345|-87.604283976|(41.805443345, -8...|\n",
      "|10000099|   HY190047|03/18/2015 11:00:...|   070XX S MORGAN ST|0486|             BATTERY|DOMESTIC BATTERY ...|           APARTMENT| false|    true| 733|       7|  17|            68|     08B|     1170859|     1858210|2015|02/10/2018 03:50:...|41.766402779|-87.649296123|(41.766402779, -8...|\n",
      "|10000100|   HY189988|03/18/2015 09:35:...| 042XX S PRAIRIE AVE|0486|             BATTERY|DOMESTIC BATTERY ...|           APARTMENT| false|    true| 213|       2|   3|            38|     08B|     1178746|     1876914|2015|02/10/2018 03:50:...|41.817552577|-87.619818523|(41.817552577, -8...|\n",
      "|10000101|   HY190020|03/18/2015 10:09:...| 036XX S WOLCOTT AVE|1811|           NARCOTICS|POSS: CANNABIS 30...|              STREET|  true|   false| 912|       9|  11|            59|      18|     1164279|     1880656|2015|02/10/2018 03:50:...|41.828138428|-87.672782106|(41.828138428, -8...|\n",
      "|10000104|   HY189964|03/18/2015 09:25:...| 097XX S PRAIRIE AVE|0460|             BATTERY|              SIMPLE|RESIDENCE PORCH/H...| false|   false| 511|       5|   6|            49|     08B|     1179637|     1840444|2015|02/10/2018 03:50:...| 41.71745472|-87.617663257|(41.71745472, -87...|\n",
      "|10000105|   HY189984|03/18/2015 09:30:...|130XX S DR MARTIN...|1320|     CRIMINAL DAMAGE|          TO VEHICLE|PARKING LOT/GARAG...| false|   false| 533|       5|   9|            54|      14|     1180907|     1818839|2015|02/10/2018 03:50:...|41.658138493|-87.613672862|(41.658138493, -8...|\n",
      "|10000108|   HY189719|03/15/2015 04:10:...|078XX S VINCENNES...|2825|       OTHER OFFENSE|HARASSMENT BY TEL...|CTA GARAGE / OTHE...| false|    true| 623|       6|  17|            69|      26|     1175130|     1853144|2015|02/10/2018 03:50:...|41.752406801|-87.633792381|(41.752406801, -8...|\n",
      "|10000109|   HY189966|03/18/2015 09:14:...|086XX S EXCHANGE AVE|143A|   WEAPONS VIOLATION|UNLAWFUL POSS OF ...|DRIVEWAY - RESIDE...|  true|   false| 423|       4|  10|            46|      15|     1197309|     1848290|2015|02/10/2018 03:50:...|41.738563465|-87.552678593|(41.738563465, -8...|\n",
      "|10000110|   HY190056|03/18/2015 10:50:...| 014XX S ASHLAND AVE|0460|             BATTERY|              SIMPLE|            SIDEWALK| false|   false|1233|      12|   2|            28|     08B|     1165950|     1893388|2015|02/10/2018 03:50:...| 41.86304084|-87.666288555|(41.86304084, -87...|\n",
      "|10000111|   HY190019|03/18/2015 10:31:...| 051XX W CHICAGO AVE|0860|               THEFT|        RETAIL THEFT|         GAS STATION|  true|   false|1531|      15|  37|            25|      06|     1141741|     1904839|2015|02/10/2018 03:50:...|41.894945606|-87.754874977|(41.894945606, -8...|\n",
      "|10000112|   HY189725|03/18/2015 12:55:...|077XX S KINGSTON AVE|0610|            BURGLARY|      FORCIBLE ENTRY|           APARTMENT| false|   false| 421|       4|   7|            43|      05|     1194535|     1854110|2015|02/10/2018 03:50:...|41.754602618|-87.562650741|(41.754602618, -8...|\n",
      "|10000114|   HY190071|03/18/2015 08:00:...|   024XX W NORTH AVE|0910| MOTOR VEHICLE THEFT|          AUTOMOBILE|               OTHER| false|   false|1423|      14|   1|            24|      07|     1159959|     1910569|2015|02/10/2018 03:50:...|41.910312648|-87.687806494|(41.910312648, -8...|\n",
      "|10000115|   HY190036|03/18/2015 09:00:...| 069XX S LOOMIS BLVD|0890|               THEFT|       FROM BUILDING|  GROCERY FOOD STORE| false|   false| 734|       7|  17|            67|      06|     1168192|     1858832|2015|02/10/2018 03:50:...|41.768167414|-87.659053795|(41.768167414, -8...|\n",
      "|10000116|   HY190063|03/18/2015 10:56:...|105XX S LAFAYETTE...|0470|PUBLIC PEACE VIOL...|    RECKLESS CONDUCT|               ALLEY|  true|   false| 512|       5|  34|            49|      24|     1177790|     1835106|2015|02/10/2018 03:50:...| 41.70284845|-87.624588931|(41.70284845, -87...|\n",
      "|10000117|   HY190068|03/18/2015 10:45:...| 087XX S KIMBARK AVE|0890|               THEFT|       FROM BUILDING|       BAR OR TAVERN| false|   false| 412|       4|   8|            48|      06|     1186312|     1847473|2015|02/10/2018 03:50:...|41.736588206| -87.59299436|(41.736588206, -8...|\n",
      "+--------+-----------+--------------------+--------------------+----+--------------------+--------------------+--------------------+------+--------+----+--------+----+--------------+--------+------------+------------+----+--------------------+------------+-------------+--------------------+\n",
      "only showing top 20 rows\n",
      "\n"
     ]
    }
   ],
   "source": [
    "df.show()"
   ]
  },
  {
   "cell_type": "code",
   "execution_count": 32,
   "metadata": {
    "collapsed": false,
    "scrolled": true
   },
   "outputs": [
    {
     "data": {
      "text/plain": [
       "[Row(ID=10000092, Case Number=u'HY189866', Date=u'03/18/2015 07:44:00 PM', Block=u'047XX W OHIO ST', IUCR=u'041A', Primary Type=u'BATTERY', Description=u'AGGRAVATED: HANDGUN', Location Description=u'STREET', Arrest=False, Domestic=False, Beat=1111, District=11, Ward=28, Community Area=25, FBI Code=u'04B', X Coordinate=1144606, Y Coordinate=1903566, Year=2015, Updated On=u'02/10/2018 03:50:01 PM', Latitude=41.891398861, Longitude=-87.744384567, Location=u'(41.891398861, -87.744384567)')]"
      ]
     },
     "execution_count": 32,
     "metadata": {},
     "output_type": "execute_result"
    }
   ],
   "source": [
    "df.head(1)"
   ]
  },
  {
   "cell_type": "code",
   "execution_count": 27,
   "metadata": {
    "collapsed": false
   },
   "outputs": [],
   "source": [
    "date = df.select('Date')"
   ]
  },
  {
   "cell_type": "code",
   "execution_count": 28,
   "metadata": {
    "collapsed": false
   },
   "outputs": [
    {
     "data": {
      "text/plain": [
       "DataFrame[Date: string]"
      ]
     },
     "execution_count": 28,
     "metadata": {},
     "output_type": "execute_result"
    }
   ],
   "source": [
    "date"
   ]
  },
  {
   "cell_type": "code",
   "execution_count": 29,
   "metadata": {
    "collapsed": false
   },
   "outputs": [
    {
     "ename": "TypeError",
     "evalue": "int() argument must be a string or a number, not 'DataFrame'",
     "output_type": "error",
     "traceback": [
      "\u001b[0;31m---------------------------------------------------------------------------\u001b[0m",
      "\u001b[0;31mTypeError\u001b[0m                                 Traceback (most recent call last)",
      "\u001b[0;32m<ipython-input-29-2b1875ec3126>\u001b[0m in \u001b[0;36m<module>\u001b[0;34m()\u001b[0m\n\u001b[0;32m----> 1\u001b[0;31m \u001b[0mdate\u001b[0m \u001b[0;34m=\u001b[0m \u001b[0mint\u001b[0m\u001b[0;34m(\u001b[0m\u001b[0mdf\u001b[0m\u001b[0;34m.\u001b[0m\u001b[0mselect\u001b[0m\u001b[0;34m(\u001b[0m\u001b[0mdf\u001b[0m\u001b[0;34m[\u001b[0m\u001b[0;34m'Date'\u001b[0m\u001b[0;34m]\u001b[0m\u001b[0;34m)\u001b[0m\u001b[0;34m)\u001b[0m\u001b[0;34m\u001b[0m\u001b[0m\n\u001b[0m",
      "\u001b[0;31mTypeError\u001b[0m: int() argument must be a string or a number, not 'DataFrame'"
     ]
    }
   ],
   "source": []
  },
  {
   "cell_type": "code",
   "execution_count": null,
   "metadata": {
    "collapsed": true
   },
   "outputs": [],
   "source": []
  },
  {
   "cell_type": "code",
   "execution_count": 34,
   "metadata": {
    "collapsed": false
   },
   "outputs": [
    {
     "name": "stdout",
     "output_type": "stream",
     "text": [
      "+----------------+\n",
      "|dayofmonth(Date)|\n",
      "+----------------+\n",
      "|            null|\n",
      "|            null|\n",
      "|            null|\n",
      "|            null|\n",
      "|            null|\n",
      "|            null|\n",
      "|            null|\n",
      "|            null|\n",
      "|            null|\n",
      "|            null|\n",
      "|            null|\n",
      "|            null|\n",
      "|            null|\n",
      "|            null|\n",
      "|            null|\n",
      "|            null|\n",
      "|            null|\n",
      "|            null|\n",
      "|            null|\n",
      "|            null|\n",
      "+----------------+\n",
      "only showing top 20 rows\n",
      "\n"
     ]
    }
   ],
   "source": [
    "df.select(dayofmonth(df['Date'])).show()"
   ]
  },
  {
   "cell_type": "code",
   "execution_count": 35,
   "metadata": {
    "collapsed": false
   },
   "outputs": [
    {
     "name": "stdout",
     "output_type": "stream",
     "text": [
      "+-----------+\n",
      "|month(Date)|\n",
      "+-----------+\n",
      "|       null|\n",
      "|       null|\n",
      "|       null|\n",
      "|       null|\n",
      "|       null|\n",
      "|       null|\n",
      "|       null|\n",
      "|       null|\n",
      "|       null|\n",
      "|       null|\n",
      "|       null|\n",
      "|       null|\n",
      "|       null|\n",
      "|       null|\n",
      "|       null|\n",
      "|       null|\n",
      "|       null|\n",
      "|       null|\n",
      "|       null|\n",
      "|       null|\n",
      "+-----------+\n",
      "only showing top 20 rows\n",
      "\n"
     ]
    }
   ],
   "source": [
    "df.select(month(df['Date'])).show()"
   ]
  },
  {
   "cell_type": "code",
   "execution_count": 210,
   "metadata": {
    "collapsed": false,
    "scrolled": true
   },
   "outputs": [
    {
     "name": "stdout",
     "output_type": "stream",
     "text": [
      "+---------+\n",
      "|year(_c2)|\n",
      "+---------+\n",
      "|     null|\n",
      "|     null|\n",
      "|     null|\n",
      "|     null|\n",
      "|     null|\n",
      "|     null|\n",
      "|     null|\n",
      "|     null|\n",
      "|     null|\n",
      "|     null|\n",
      "|     null|\n",
      "|     null|\n",
      "|     null|\n",
      "|     null|\n",
      "|     null|\n",
      "|     null|\n",
      "|     null|\n",
      "|     null|\n",
      "|     null|\n",
      "|     null|\n",
      "+---------+\n",
      "only showing top 20 rows\n",
      "\n"
     ]
    }
   ],
   "source": [
    "df.select(year(df['_c2'])).show()"
   ]
  },
  {
   "cell_type": "code",
   "execution_count": 47,
   "metadata": {
    "collapsed": false
   },
   "outputs": [
    {
     "data": {
      "text/plain": [
       "DataFrame[summary: string, ID: string, Case Number: string, Date: string, Block: string, IUCR: string, Primary Type: string, Description: string, Location Description: string, Beat: string, District: string, Ward: string, Community Area: string, FBI Code: string, X Coordinate: string, Y Coordinate: string, Year: string, Updated On: string, Latitude: string, Longitude: string, Location: string]"
      ]
     },
     "execution_count": 47,
     "metadata": {},
     "output_type": "execute_result"
    }
   ],
   "source": [
    "df.describe()"
   ]
  },
  {
   "cell_type": "code",
   "execution_count": 37,
   "metadata": {
    "collapsed": false
   },
   "outputs": [],
   "source": [
    "result = df.describe()"
   ]
  },
  {
   "cell_type": "code",
   "execution_count": 48,
   "metadata": {
    "collapsed": false
   },
   "outputs": [
    {
     "name": "stdout",
     "output_type": "stream",
     "text": [
      "+-------+---------+\n",
      "|summary|     date|\n",
      "+-------+---------+\n",
      "|  count|6,673,140|\n",
      "|   mean|     null|\n",
      "| stddev|     null|\n",
      "|    min|     null|\n",
      "|    max|     null|\n",
      "+-------+---------+\n",
      "\n"
     ]
    }
   ],
   "source": [
    "result.select(result['summary'],format_number(result['Date'].cast('int'),0).alias('date')).show()"
   ]
  },
  {
   "cell_type": "code",
   "execution_count": null,
   "metadata": {
    "collapsed": false
   },
   "outputs": [],
   "source": []
  },
  {
   "cell_type": "code",
   "execution_count": null,
   "metadata": {
    "collapsed": true
   },
   "outputs": [],
   "source": []
  }
 ],
 "metadata": {
  "anaconda-cloud": {},
  "kernelspec": {
   "display_name": "Python [conda env:anaconda]",
   "language": "python",
   "name": "conda-env-anaconda-py"
  },
  "language_info": {
   "codemirror_mode": {
    "name": "ipython",
    "version": 2
   },
   "file_extension": ".py",
   "mimetype": "text/x-python",
   "name": "python",
   "nbconvert_exporter": "python",
   "pygments_lexer": "ipython2",
   "version": "2.7.12"
  }
 },
 "nbformat": 4,
 "nbformat_minor": 1
}
